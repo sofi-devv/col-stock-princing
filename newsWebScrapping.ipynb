{
 "cells": [
  {
   "cell_type": "code",
   "execution_count": 1,
   "metadata": {},
   "outputs": [
    {
     "name": "stdout",
     "output_type": "stream",
     "text": [
      "Requirement already satisfied: selenium in /opt/anaconda3/lib/python3.11/site-packages (4.18.1)\n",
      "Requirement already satisfied: urllib3<3,>=1.26 in /opt/anaconda3/lib/python3.11/site-packages (from urllib3[socks]<3,>=1.26->selenium) (2.0.7)\n",
      "Requirement already satisfied: trio~=0.17 in /opt/anaconda3/lib/python3.11/site-packages (from selenium) (0.24.0)\n",
      "Requirement already satisfied: trio-websocket~=0.9 in /opt/anaconda3/lib/python3.11/site-packages (from selenium) (0.11.1)\n",
      "Requirement already satisfied: certifi>=2021.10.8 in /opt/anaconda3/lib/python3.11/site-packages (from selenium) (2024.2.2)\n",
      "Requirement already satisfied: typing_extensions>=4.9.0 in /opt/anaconda3/lib/python3.11/site-packages (from selenium) (4.9.0)\n",
      "Requirement already satisfied: attrs>=20.1.0 in /opt/anaconda3/lib/python3.11/site-packages (from trio~=0.17->selenium) (23.1.0)\n",
      "Requirement already satisfied: sortedcontainers in /opt/anaconda3/lib/python3.11/site-packages (from trio~=0.17->selenium) (2.4.0)\n",
      "Requirement already satisfied: idna in /opt/anaconda3/lib/python3.11/site-packages (from trio~=0.17->selenium) (3.4)\n",
      "Requirement already satisfied: outcome in /opt/anaconda3/lib/python3.11/site-packages (from trio~=0.17->selenium) (1.3.0.post0)\n",
      "Requirement already satisfied: sniffio>=1.3.0 in /opt/anaconda3/lib/python3.11/site-packages (from trio~=0.17->selenium) (1.3.0)\n",
      "Requirement already satisfied: wsproto>=0.14 in /opt/anaconda3/lib/python3.11/site-packages (from trio-websocket~=0.9->selenium) (1.2.0)\n",
      "Requirement already satisfied: pysocks!=1.5.7,<2.0,>=1.5.6 in /opt/anaconda3/lib/python3.11/site-packages (from urllib3[socks]<3,>=1.26->selenium) (1.7.1)\n",
      "Requirement already satisfied: h11<1,>=0.9.0 in /opt/anaconda3/lib/python3.11/site-packages (from wsproto>=0.14->trio-websocket~=0.9->selenium) (0.14.0)\n"
     ]
    }
   ],
   "source": [
    "!pip install selenium"
   ]
  },
  {
   "cell_type": "code",
   "execution_count": 2,
   "metadata": {},
   "outputs": [],
   "source": [
    "from selenium import webdriver\n",
    "from selenium.webdriver.common.by import By\n",
    "from selenium.common.exceptions import NoSuchElementException\n",
    "driver = webdriver.Chrome()"
   ]
  },
  {
   "cell_type": "markdown",
   "metadata": {},
   "source": [
    "Medio: La Republica"
   ]
  },
  {
   "cell_type": "code",
   "execution_count": 329,
   "metadata": {},
   "outputs": [],
   "source": [
    "# Camino 1 (Problema intercepción los clics) driver.get(\"https://www.larepublica.co/ecopetrol\")"
   ]
  },
  {
   "cell_type": "code",
   "execution_count": 52,
   "metadata": {},
   "outputs": [],
   "source": [
    "\"\"\" Camino 1 (Problema intercepción los clics)\n",
    "\n",
    "secc_1 = '//*[@id=\"sticky-anchor-1\"]/div[5]/div['\n",
    "secc_2 =(\"]/div[2]/h2/a\")\n",
    "noticias_todas =[]\n",
    "for n in range (18,23):\n",
    "    noticias_eltiempo = secc_1 + str(n) + secc_2\n",
    "    noticias_todas.append(noticias_eltiempo)\n",
    "\n",
    "secc_1 = '//*[@id=\"sticky-anchor-1\"]/div[6]/div['\n",
    "secc_2 =(\"]/div[2]/h2/a\")\n",
    "for n in range (1,19):\n",
    "    noticias_eltiempo = secc_1 + str(n) + secc_2\n",
    "    noticias_todas.append(noticias_eltiempo) \"\"\"\n",
    "\n",
    "noticias_todas =[]\n",
    "noticias_todas.append(\"https://www.larepublica.co/economia/proyecciones-estiman-que-las-utilidades-de-ecopetrol-en-2023-podrian-bajar-41-9-3811199\")\n",
    "noticias_todas.append(\"https://www.larepublica.co/economia/ecopetrol-recibiria-us-1-000-millones-de-fallo-en-caso-reficar-ante-cb-i-en-acciones-3810583\")\n",
    "noticias_todas.append(\"https://www.larepublica.co/economia/en-primer-ano-de-operacion-econovamovilizo-proyectos-por-unos-us-12-1-millones-3808901\")\n",
    "noticias_todas.append(\"https://www.larepublica.co/economia/ecopetrol-aumento-su-potencial-de-gas-en-el-caribe-con-la-perforacion-orca-norte-1-3806463\")\n",
    "noticias_todas.append(\"https://www.larepublica.co/economia/ecopetrol-y-camara-de-comercio-invierten-5-000-millones-para-transicion-energetica-3804960\")\n",
    "noticias_todas.append(\"https://www.larepublica.co/empresas/refineria-de-barrancabermeja-inauguro-planta-para-tratamiento-de-aguas-residuales-3804359\")\n",
    "noticias_todas.append(\"https://www.larepublica.co/economia/ecopetrol-convoco-a-asamblea-general-de-accionistas-para-redefinir-junta-directiva-3801477\")\n",
    "noticias_todas.append(\"https://www.larepublica.co/economia/ecopetrol-minenergia-y-minciencias-buscan-financiar-proyectos-de-innovacion-3800439\")\n",
    "noticias_todas.append(\"https://www.larepublica.co/empresas/empresas-mas-sostenibles-de-colombia-2024-3796919\")\n",
    "noticias_todas.append(\"https://www.larepublica.co/empresas/las-empresas-colombianas-mas-sostenibles-segun-the-sustainability-yearbook-2024-3796788\")\n",
    "noticias_todas.append(\"https://www.larepublica.co/economia/ecopetrol-reporto-4-de-ahorro-de-energia-anual-en-medio-de-fenomeno-de-el-nino-3795746\")\n",
    "noticias_todas.append(\"https://www.larepublica.co/economia/el-grupo-ecopetrol-redujo-emisiones-de-co2-que-equivalen-a-casi-197-dias-sin-carro-3792573\")\n",
    "\n"
   ]
  },
  {
   "cell_type": "code",
   "execution_count": 117,
   "metadata": {},
   "outputs": [
    {
     "data": {
      "text/plain": [
       "['https://www.larepublica.co/economia/proyecciones-estiman-que-las-utilidades-de-ecopetrol-en-2023-podrian-bajar-41-9-3811199',\n",
       " 'https://www.larepublica.co/economia/ecopetrol-recibiria-us-1-000-millones-de-fallo-en-caso-reficar-ante-cb-i-en-acciones-3810583',\n",
       " 'https://www.larepublica.co/economia/en-primer-ano-de-operacion-econovamovilizo-proyectos-por-unos-us-12-1-millones-3808901',\n",
       " 'https://www.larepublica.co/economia/ecopetrol-aumento-su-potencial-de-gas-en-el-caribe-con-la-perforacion-orca-norte-1-3806463',\n",
       " 'https://www.larepublica.co/economia/ecopetrol-y-camara-de-comercio-invierten-5-000-millones-para-transicion-energetica-3804960',\n",
       " 'https://www.larepublica.co/empresas/refineria-de-barrancabermeja-inauguro-planta-para-tratamiento-de-aguas-residuales-3804359',\n",
       " 'https://www.larepublica.co/economia/ecopetrol-convoco-a-asamblea-general-de-accionistas-para-redefinir-junta-directiva-3801477',\n",
       " 'https://www.larepublica.co/economia/ecopetrol-minenergia-y-minciencias-buscan-financiar-proyectos-de-innovacion-3800439',\n",
       " 'https://www.larepublica.co/empresas/empresas-mas-sostenibles-de-colombia-2024-3796919',\n",
       " 'https://www.larepublica.co/empresas/las-empresas-colombianas-mas-sostenibles-segun-the-sustainability-yearbook-2024-3796788',\n",
       " 'https://www.larepublica.co/economia/ecopetrol-reporto-4-de-ahorro-de-energia-anual-en-medio-de-fenomeno-de-el-nino-3795746',\n",
       " 'https://www.larepublica.co/economia/el-grupo-ecopetrol-redujo-emisiones-de-co2-que-equivalen-a-casi-197-dias-sin-carro-3792573',\n",
       " 'https://forbes.co/2024/02/05/actualidad/ecopetrol-sobresale-en-el-indice-dow-jones-por-sus-practicas-de-sostenibilidad-y-desempeno-social',\n",
       " 'https://forbes.co/2024/02/20/actualidad/presidente-de-ecopetrol-tendra-que-declarar-en-investigacion-por-dineros-de-la-campana-petro']"
      ]
     },
     "execution_count": 117,
     "metadata": {},
     "output_type": "execute_result"
    }
   ],
   "source": [
    "noticias_todas"
   ]
  },
  {
   "cell_type": "code",
   "execution_count": 171,
   "metadata": {},
   "outputs": [],
   "source": [
    "titles = []\n",
    "subtitles = []\n",
    "dates = []\n",
    "contents = []"
   ]
  },
  {
   "cell_type": "code",
   "execution_count": 341,
   "metadata": {},
   "outputs": [
    {
     "name": "stdout",
     "output_type": "stream",
     "text": [
      "https://www.larepublica.co/economia/ecopetrol-apuesta-por-la-transicion-energetica-3812061\n",
      "https://www.larepublica.co/economia/resultados-empresariales-de-ecopetrol-cuarto-trimestre-de-2023-3811281\n",
      "https://www.larepublica.co/economia/proyecciones-estiman-que-las-utilidades-de-ecopetrol-en-2023-podrian-bajar-41-9-3811199\n",
      "https://www.larepublica.co/economia/a-un-dia-de-los-resultados-financieros-de-ecopetrol-estas-son-las-apuestas-del-mercado-3811053\n",
      "https://www.larepublica.co/economia/ecopetrol-recibiria-us-1-000-millones-de-fallo-en-caso-reficar-ante-cb-i-en-acciones-3810583\n",
      "https://www.larepublica.co/especiales/hidrogeno-en-el-radar-de-colombia/proyectos-de-ecopetrol-producen-100-kg-de-hidrogeno-diariamente-3809740\n",
      "https://www.larepublica.co/especiales/hidrogeno-en-el-radar-de-colombia/que-carros-funcionan-con-hidrogeno-3809943\n",
      "https://www.larepublica.co/especiales/hidrogeno-en-el-radar-de-colombia/cuales-proyectos-de-generacion-de-hidrogeno-hay-en-colombia-3809906\n",
      "https://www.larepublica.co/economia/asi-esta-la-plancha-de-posibles-candidatos-para-integrar-la-junta-directiva-de-ecopetrol-3809084\n",
      "https://www.larepublica.co/economia/en-primer-ano-de-operacion-econovamovilizo-proyectos-por-unos-us-12-1-millones-3808901\n",
      "https://www.larepublica.co/economia/el-deterioro-y-dano-de-gasoducto-podria-demorar-la-importacion-de-gas-3806653\n",
      "https://www.larepublica.co/economia/ecopetrol-aumento-su-potencial-de-gas-en-el-caribe-con-la-perforacion-orca-norte-1-3806463\n",
      "https://www.larepublica.co/economia/ecopetrol-y-camara-de-comercio-invierten-5-000-millones-para-transicion-energetica-3804960\n",
      "https://www.larepublica.co/empresas/refineria-de-barrancabermeja-inauguro-planta-para-tratamiento-de-aguas-residuales-3804359\n",
      "https://www.larepublica.co/economia/ecopetrol-convoco-a-asamblea-general-de-accionistas-para-redefinir-junta-directiva-3801477\n",
      "https://www.larepublica.co/economia/ecopetrol-minenergia-y-minciencias-buscan-financiar-proyectos-de-innovacion-3800439\n",
      "https://www.larepublica.co/economia/ecopetrol-restablecio-sus-operaciones-en-cano-sur-tras-acuerdos-con-las-comunidades-3797908\n",
      "https://www.larepublica.co/economia/proyecciones-de-reservas-petroleras-de-ecopetrol-en-2023-3797411\n",
      "https://www.larepublica.co/economia/grupo-ecopetrol-genero-mas-de-128-000-empleos-en-2023-3797261\n",
      "https://www.larepublica.co/empresas/empresas-mas-sostenibles-de-colombia-2024-3796919\n",
      "https://www.larepublica.co/empresas/las-empresas-colombianas-mas-sostenibles-segun-the-sustainability-yearbook-2024-3796788\n",
      "https://www.larepublica.co/economia/ecopetrol-reporto-4-de-ahorro-de-energia-anual-en-medio-de-fenomeno-de-el-nino-3795746\n",
      "https://www.larepublica.co/economia/el-grupo-ecopetrol-redujo-emisiones-de-co2-que-equivalen-a-casi-197-dias-sin-carro-3792573\n"
     ]
    }
   ],
   "source": [
    "for n in noticias_todas:\n",
    "    try:\n",
    "        close_buttton = driver.find_element(By.CLASS_NAME, \"gpt-slot-close-btn\")\n",
    "        close_buttton.click()\n",
    "        time. sleep(1) # Espera breve para asegurar que el elemento se haya cerrado\n",
    "    except NoSuchElementException:\n",
    "            # Si el botón de cierre no se encuentra, simplemente continúa pass\n",
    "            pass\n",
    "    try:\n",
    "        time.sleep(1)\n",
    "        # Camino 1 (Odio lo que sea que intercepta los clics) driver.find_element(By.XPATH, n).click()\n",
    "        driver.get(n)\n",
    "        print(n)\n",
    "        time.sleep(1)\n",
    "        e = driver.find_element(By.CLASS_NAME, \"mb-auto\")\n",
    "        titulo_noticia = e.find_element(By.TAG_NAME, \"h2\").text\n",
    "        time.sleep(3)\n",
    "        subtitulo_noticia = subtitulo_noticia = driver.find_element(By.CLASS_NAME, \"lead\").text\n",
    "        time.sleep(1)\n",
    "        fecha_noticia = driver.find_element(By.CLASS_NAME,\"date\").text\n",
    "        time.sleep(3)\n",
    "        content = driver.find_element(By.CLASS_NAME, \"html-content\")\n",
    "        parrafos = content.find_elements(By.TAG_NAME, \"p\")\n",
    "        titles.append(titulo_noticia)\n",
    "        subtitles.append(subtitulo_noticia)\n",
    "        dates.append(fecha_noticia)\n",
    "        c_noticia = ''\n",
    "        for parrafo in parrafos:\n",
    "            c_noticia += parrafo.text + \"\\n\"\n",
    "        contents.append(c_noticia)    \n",
    "        driver.back()\n",
    "        time.sleep(5)\n",
    "        time.sleep(5)\n",
    "    except NoSuchElementException:\n",
    "         continue\n"
   ]
  },
  {
   "cell_type": "code",
   "execution_count": 342,
   "metadata": {},
   "outputs": [],
   "source": [
    "import pandas as pd\n",
    "df = pd.DataFrame({\n",
    "    \"Title\": titles,\n",
    "    \"Subtitle\": subtitles,\n",
    "    \"Date\": dates,\n",
    "    \"Content\": contents\n",
    "})\n"
   ]
  },
  {
   "cell_type": "code",
   "execution_count": 343,
   "metadata": {},
   "outputs": [
    {
     "name": "stdout",
     "output_type": "stream",
     "text": [
      "                         Title                                             Subtitle                                     Date                                    Content                      \n",
      "0   Ecopetrol planea invertir entre $23 y $27 bill...  Ecopetrol tiene su apuesta en el plan de trans...     jueves, 29 de febrero de 2024  El presidente de Ecopetrol, Ricardo Roa, luego...\n",
      "1   Utilidades de Ecopetrol 2023 cayeron 42% frent...  La estatal petrolera presentó su informe finan...     jueves, 29 de febrero de 2024  Este jueves, Ecopetrol publicó los resultados ...\n",
      "2   Proyecciones estiman que las utilidades de Eco...  La producción de petróleo habría crecido. $142...     jueves, 29 de febrero de 2024  La petrolera más grande del país, Ecopetrol, r...\n",
      "3   A un día de los resultados financieros de Ecop...  En cuanto a la utilidad neta, solo Davivienda ...  miércoles, 28 de febrero de 2024  Ecopetrol revelará mañana sus resultados finan...\n",
      "4   Ecopetrol recibiría US$1.000 millones de fallo...  Reficar podría recibir acciones preferenciales...  miércoles, 28 de febrero de 2024  Se abrió nuevamente el capítulo de la disputa ...\n",
      "5   Con tres proyectos activos, Ecopetrol produce ...  Con las iniciativas la petrolera tiene una cap...  miércoles, 28 de febrero de 2024  La producción de hidrógeno de bajas emisiones ...\n",
      "6   Conozca el panorama y los retos de masificar e...  Aunque ya marcas como Porsche van adelante en ...  miércoles, 28 de febrero de 2024  Al mismo tiempo que la transición energética s...\n",
      "7   Hay 28 proyectos de hidrógeno en desarrollo y ...  En la Región Caribe se están desarrollando 16 ...  miércoles, 28 de febrero de 2024  La descarbonización industrial del país es un ...\n",
      "8   Así está la plancha de posibles candidatos par...  En la lista que se conoció destacan algunos ca...      lunes, 26 de febrero de 2024  Faltando poco menos de un mes para que se llev...\n",
      "9   En primer año de operación, Econova movilizó p...  Desde su creación, esta red ha lanzado 38 reto...      lunes, 26 de febrero de 2024  Ecopetrol informó que Econova,en su primer año...\n",
      "10  Deterioro y daño de gasoducto podría demorar i...  El ducto que conecta a Colombia con Venezuela ...     jueves, 22 de febrero de 2024  Aseguran que hay pocas probabilidades que el p...\n",
      "11  Ecopetrol, con la perforación Orca Norte-1, au...  Es el primer pozo en aguas profundas operado 1...     jueves, 22 de febrero de 2024  Elsa Jaimes, vicepresidente Costa Afuera de Ec...\n",
      "12  Ecopetrol y Cámara de Comercio invertirán $5.0...  El acuerdo en Bucaramanga tiene por objetivo c...  miércoles, 21 de febrero de 2024  Con una inversión total cerca a $5.000 millone...\n",
      "13  Refinería de Barrancabermeja inauguró planta p...  Ecopetrol anunció inversiones que superan los ...      lunes, 19 de febrero de 2024  La refinería de Ecopetrol en Barrancabermeja a...\n",
      "14  Ecopetrol convocó a Asamblea General de Accion...  En la cita también se presentará el informe de...  miércoles, 14 de febrero de 2024  El presidente de Ecopetrol, Ricardo Roa, convo...\n",
      "15  La convocatoria de Ecopetrol, Minenergía y Min...  Se estima que hay más de $21.639 millones en r...     martes, 13 de febrero de 2024  Ecopetrol y los ministerios de Energía y Cienc...\n",
      "16  Ecopetrol restableció sus operaciones en Caño ...  La comunidad que desarrolló la protesta exigía...      jueves, 8 de febrero de 2024  Ecopetrol inició el restablecimiento de sus op...\n",
      "17  Bancolombia prevé una caída de 4% en las reser...  La entidad prevé que las reservas de la estata...      jueves, 8 de febrero de 2024  El equipo económico del Grupo Bancolombia pres...\n",
      "18  Grupo Ecopetrol generó más de 128.000 nuevos e...  El grupo logró un promedio de 42.954 empleos m...      jueves, 8 de febrero de 2024  De acuerdo con un reporte, Grupo Ecopetrol gen...\n",
      "19  TGI, Cementos Argos y Ecopetrol, entre las org...  De las más de 9.400 empresas analizadas, solo ...      jueves, 8 de febrero de 2024  Ayer fueron publicados los resultados del Anua...\n",
      "20  TGI, Cementos Argos y Ecopetrol, entre las emp...  De las más de 9.400 empresas evaluadas en 2023...   miércoles, 7 de febrero de 2024  Hoy se conocieron los resultados del Anuario d...\n",
      "21  Ecopetrol reportó 4% de ahorro de energía anua...  El programa de eficiencia energética permitió ...      martes, 6 de febrero de 2024  De acuerdo con Ecopetrol, el ahorro logrado es...\n",
      "22  El Grupo Ecopetrol redujo emisiones de CO2 que...  El Grupo anunció que en los últimos cuatro año...      jueves, 1 de febrero de 2024  Grupo Ecopetrol anunció que se suma a la inici...\n"
     ]
    }
   ],
   "source": [
    "pd.set_option('display.width', 1000)  # Ajusta el ancho máximo en caracteres de la visualización\n",
    "pd.set_option('display.colheader_justify', 'center') \n",
    "print(df)"
   ]
  },
  {
   "cell_type": "code",
   "execution_count": 344,
   "metadata": {},
   "outputs": [],
   "source": [
    "excel_file_path = \"Users/mauro07060000/Downloads/Noticias-Eco.xlsx\"\n",
    "\n",
    "# Guardar el DataFrame como un archivo Excel\n",
    "df.to_excel(excel_file_path, index=False, engine='openpyxl')"
   ]
  },
  {
   "cell_type": "markdown",
   "metadata": {},
   "source": [
    "Medio: Colombia Forbes"
   ]
  },
  {
   "cell_type": "code",
   "execution_count": 5,
   "metadata": {},
   "outputs": [],
   "source": [
    "driver = webdriver.Chrome()"
   ]
  },
  {
   "cell_type": "code",
   "execution_count": 55,
   "metadata": {},
   "outputs": [],
   "source": [
    "noticias_todas.append(\"https://forbes.co/2024/02/05/actualidad/ecopetrol-sobresale-en-el-indice-dow-jones-por-sus-practicas-de-sostenibilidad-y-desempeno-social\")\n",
    "noticias_todas.append(\"https://forbes.co/2024/02/20/actualidad/presidente-de-ecopetrol-tendra-que-declarar-en-investigacion-por-dineros-de-la-campana-petro\")"
   ]
  },
  {
   "cell_type": "code",
   "execution_count": 58,
   "metadata": {},
   "outputs": [
    {
     "name": "stdout",
     "output_type": "stream",
     "text": [
      "https://forbes.co/2024/02/05/actualidad/ecopetrol-sobresale-en-el-indice-dow-jones-por-sus-practicas-de-sostenibilidad-y-desempeno-social\n",
      "https://forbes.co/2024/02/20/actualidad/presidente-de-ecopetrol-tendra-que-declarar-en-investigacion-por-dineros-de-la-campana-petro\n"
     ]
    }
   ],
   "source": [
    "for n in noticias_todas[12:]:\n",
    "    print(n)"
   ]
  },
  {
   "cell_type": "code",
   "execution_count": 103,
   "metadata": {},
   "outputs": [
    {
     "name": "stdout",
     "output_type": "stream",
     "text": [
      "https://forbes.co/2024/02/05/actualidad/ecopetrol-sobresale-en-el-indice-dow-jones-por-sus-practicas-de-sostenibilidad-y-desempeno-social\n",
      "https://forbes.co/2024/02/20/actualidad/presidente-de-ecopetrol-tendra-que-declarar-en-investigacion-por-dineros-de-la-campana-petro\n"
     ]
    }
   ],
   "source": [
    "for n in noticias_todas[12:]:  \n",
    "    try:\n",
    "        close_buttton = driver.find_element(By.CLASS_NAME, \"gpt-slot-close-btn\")\n",
    "        close_buttton.click()\n",
    "        time. sleep(1) # Espera breve para asegurar que el elemento se haya cerrado\n",
    "    except NoSuchElementException:\n",
    "            # Si el botón de cierre no se encuentra, simplemente continúa pass\n",
    "            pass\n",
    "    try:\n",
    "        time.sleep(1)\n",
    "        # Camino 1 (Odio lo que sea que intercepta los clics) driver.find_element(By.XPATH, n).click()\n",
    "        driver.get(n)\n",
    "        print(n)\n",
    "        time.sleep(1)\n",
    "        titulo_noticia = driver.find_element(By.XPATH, \"//*[@id='main-content']/div/div[1]/div[1]/article/div[1]/h1\").text\n",
    "        time.sleep(3)\n",
    "        subtitulo_noticia = None\n",
    "        time.sleep(1)\n",
    "        fecha_noticia = driver.find_element(By.XPATH,\"//*[@id='main-content']/div/div[1]/div[1]/article/div[1]/span/span[2]\").text\n",
    "        time.sleep(3)\n",
    "        content = driver.find_element(By.XPATH, \"//*[@id='main-content']/div/div[1]/div[1]/article/div[3]/div[2]\")\n",
    "        parrafos = content.find_elements(By.TAG_NAME, \"p\")\n",
    "        titles.append(titulo_noticia)\n",
    "        subtitles.append(subtitulo_noticia)\n",
    "        dates.append(fecha_noticia)\n",
    "        c_noticia = ''\n",
    "        for parrafo in parrafos:\n",
    "            c_noticia += parrafo.text + \"\\n\"\n",
    "        contents.append(c_noticia)    \n",
    "        driver.back()\n",
    "        time.sleep(5)\n",
    "        time.sleep(5)\n",
    "    except NoSuchElementException:\n",
    "         continue"
   ]
  },
  {
   "cell_type": "code",
   "execution_count": 104,
   "metadata": {},
   "outputs": [],
   "source": [
    "import pandas as pd\n",
    "df1 = pd.DataFrame({\n",
    "    \"Title\": titles,\n",
    "    \"Subtitle\": subtitles,\n",
    "    \"Date\": dates,\n",
    "    \"Content\": contents\n",
    "})"
   ]
  },
  {
   "cell_type": "code",
   "execution_count": 116,
   "metadata": {},
   "outputs": [],
   "source": [
    "import openpyxl\n",
    "archivo = '/Users/mauro07060000/Downloads/Noticias-Eco.xlsx'  # Cambia esto por la ruta real de tu archivo\n",
    "libro = openpyxl.load_workbook(archivo)\n",
    "hoja = libro.active  # O usa libro['nombre_hoja'] si conoces el nombre de la hoja\n",
    "# Encuentra la última fila con datos\n",
    "ultima_fila = hoja.max_row \n",
    "\n",
    "# Añade los datos del DataFrame\n",
    "for indice, fila in df1.iterrows():\n",
    "    for columna, valor in enumerate(fila, start=1):\n",
    "        hoja.cell(row=ultima_fila + indice, column=columna, value=valor)\n",
    "\n",
    "# Guarda el archivo\n",
    "libro.save(filename=archivo)"
   ]
  },
  {
   "cell_type": "markdown",
   "metadata": {},
   "source": [
    "Medio: El Universal"
   ]
  },
  {
   "cell_type": "code",
   "execution_count": 119,
   "metadata": {},
   "outputs": [],
   "source": [
    "driver = webdriver.Chrome()"
   ]
  },
  {
   "cell_type": "code",
   "execution_count": 126,
   "metadata": {},
   "outputs": [],
   "source": [
    "noticias_todas.append(\"https://www.eluniversal.com.co/cartagena/gobernacion-de-bolivar-busca-solucion-a-deuda-millonaria-de-la-udec-a-ecopetrol-FM9952557\")\n",
    "noticias_todas.append(\"https://www.eluniversal.com.co/economica/ecopetrol-comprueba-existencia-de-gas-en-pozo-orca-norte-1-la-guajira-AE10052640\")"
   ]
  },
  {
   "cell_type": "code",
   "execution_count": 124,
   "metadata": {},
   "outputs": [],
   "source": [
    "driver.get(\"https://www.eluniversal.com.co/economica/ecopetrol-comprueba-existencia-de-gas-en-pozo-orca-norte-1-la-guajira-AE10052640\")"
   ]
  },
  {
   "cell_type": "code",
   "execution_count": 125,
   "metadata": {},
   "outputs": [
    {
     "name": "stdout",
     "output_type": "stream",
     "text": [
      "Ecopetrol comprueba existencia de gas en pozo Orca Norte-1, La Guajira\n",
      "Conozca detalles del nuevo potencial gasífero de Colombia en costa afuera, frente a la Península de La Guajira.\n",
      "23 de febrero de 2024 12:00 AM\n",
      "Tras la perforación del pozo Orca Norte 1, en costa afuera de La Guajira, Ecopetrol amplía su potencial de gas en el Caribe colombiano.\n",
      "El pozo fue perforado en tiempo récord (38 días) con un desempeño de 3,7 días por cada 1.000 pies perforados y un tiempo no productivo del 7%; ambas marcas de clase mundial en operaciones costa afuera, revela un comunicado de la estatal petrolera. (Lea aquí: Colombia podría ser exportador de gas natural).\n",
      "El pozo Orca Norte–1, cuya perforación se inició en noviembre pasado y finalizó de manera exitosa en enero, comprobó la presencia de dos acumulaciones de gas en reservorios diferentes al descubrimiento Orca-1, lo cual activa una reevaluación del proyecto original, a la vez que amplía el potencial de gas de La Guajira Offshore.\n",
      "No obstante, la compañía señala que “los resultados están en fase de evaluación para decidir los próximos pasos que se deben seguir y determinar su viabilidad comercial ”.\n",
      "Orca Norte-1 fue el primer pozo en aguas profundas operado cien por ciento por Ecopetrol S.A., bajo los más altos estándares de la industria, con uno de los mejores desempeños operacionales de los pozos del Caribe colombiano y sin incidentes que afectaran a personas o al medio ambiente.\n",
      "Orca Norte – 1 se suma a los recientes éxitos exploratorios en las diferentes provincias del offshore del Caribe colombiano: Gorgon-2 ST2 y Uchuva-1 en 2022, y Glaucus-1 en 2023, con lo que se ratifica el potencial gasífero en diferentes zonas de subsuelo costa afuera y abre opciones a la oferta orgánica de este importante recurso para el país. (Lea aquí: Promigas y Fedesarrollo: ‘prescindir del gas natural costaría hasta $112 billones’).\n",
      "\n"
     ]
    }
   ],
   "source": [
    "titulo_noticia = driver.find_element(By.XPATH, \"//*[@id='titulo-news-1']/div[4]/div/div/div[1]/div[1]/h1/span\").text\n",
    "subtitulo_noticia = driver.find_element(By.XPATH, \"//*[@id='titulo-news-1']/div[4]/div/div/div[1]/div[2]/p\").text\n",
    "fecha_noticia = driver.find_element(By.XPATH,\"//*[@id='titulo-news-1']/div[4]/div/div/div[2]/div[1]/div/div/p\").text\n",
    "content = driver.find_element(By.XPATH, \"//*[@id='content-news-1']/div[1]/div/div[1]/div/article\")\n",
    "parrafos = content.find_elements(By.TAG_NAME, \"p\")\n",
    "a = ''\n",
    "for parrafo in parrafos:\n",
    "    a += parrafo.text + \"\\n\"\n",
    "\n",
    "print(titulo_noticia)\n",
    "print(subtitulo_noticia)\n",
    "print(fecha_noticia)\n",
    "print(a)"
   ]
  },
  {
   "cell_type": "code",
   "execution_count": 127,
   "metadata": {},
   "outputs": [
    {
     "name": "stdout",
     "output_type": "stream",
     "text": [
      "https://www.eluniversal.com.co/cartagena/gobernacion-de-bolivar-busca-solucion-a-deuda-millonaria-de-la-udec-a-ecopetrol-FM9952557\n",
      "https://www.eluniversal.com.co/economica/ecopetrol-comprueba-existencia-de-gas-en-pozo-orca-norte-1-la-guajira-AE10052640\n"
     ]
    }
   ],
   "source": [
    "for n in noticias_todas[14:]:  \n",
    "    try:\n",
    "        close_buttton = driver.find_element(By.CLASS_NAME, \"gpt-slot-close-btn\")\n",
    "        close_buttton.click()\n",
    "        time. sleep(1) # Espera breve para asegurar que el elemento se haya cerrado\n",
    "    except NoSuchElementException:\n",
    "            # Si el botón de cierre no se encuentra, simplemente continúa pass\n",
    "            pass\n",
    "    try:\n",
    "        time.sleep(1)\n",
    "        # Camino 1 (Odio lo que sea que intercepta los clics) driver.find_element(By.XPATH, n).click()\n",
    "        driver.get(n)\n",
    "        print(n)\n",
    "        time.sleep(1)\n",
    "        titulo_noticia = driver.find_element(By.XPATH, \"//*[@id='titulo-news-1']/div[4]/div/div/div[1]/div[1]/h1/span\").text\n",
    "        time.sleep(3)\n",
    "        subtitulo_noticia = driver.find_element(By.XPATH, \"//*[@id='titulo-news-1']/div[4]/div/div/div[1]/div[2]/p\").text\n",
    "        time.sleep(1)\n",
    "        fecha_noticia = driver.find_element(By.XPATH,\"//*[@id='titulo-news-1']/div[4]/div/div/div[2]/div[1]/div/div/p\").text\n",
    "        time.sleep(3)\n",
    "        content = driver.find_element(By.XPATH, \"//*[@id='content-news-1']/div[1]/div/div[1]/div/article\")\n",
    "        parrafos = content.find_elements(By.TAG_NAME, \"p\")\n",
    "        titles.append(titulo_noticia)\n",
    "        subtitles.append(subtitulo_noticia)\n",
    "        dates.append(fecha_noticia)\n",
    "        c_noticia = ''\n",
    "        for parrafo in parrafos:\n",
    "            c_noticia += parrafo.text + \"\\n\"\n",
    "        contents.append(c_noticia)    \n",
    "        driver.back()\n",
    "        time.sleep(5)\n",
    "        time.sleep(5)\n",
    "    except NoSuchElementException:\n",
    "         continue"
   ]
  },
  {
   "cell_type": "code",
   "execution_count": 128,
   "metadata": {},
   "outputs": [],
   "source": [
    "import pandas as pd\n",
    "df2 = pd.DataFrame({\n",
    "    \"Title\": titles,\n",
    "    \"Subtitle\": subtitles,\n",
    "    \"Date\": dates,\n",
    "    \"Content\": contents\n",
    "})"
   ]
  },
  {
   "cell_type": "code",
   "execution_count": 132,
   "metadata": {},
   "outputs": [],
   "source": [
    "import openpyxl\n",
    "archivo = '/Users/mauro07060000/Downloads/Noticias-Eco.xlsx'  # Cambia esto por la ruta real de tu archivo\n",
    "libro = openpyxl.load_workbook(archivo)\n",
    "hoja = libro.active  # O usa libro['nombre_hoja'] si conoces el nombre de la hoja\n",
    "# Encuentra la última fila con datos\n",
    "ultima_fila = hoja.max_row + 1\n",
    "\n",
    "# Añade los datos del DataFrame\n",
    "for indice, fila in df2.iterrows():\n",
    "    for columna, valor in enumerate(fila, start=1):\n",
    "        hoja.cell(row=ultima_fila + indice, column=columna, value=valor)\n",
    "\n",
    "# Guarda el archivo\n",
    "libro.save(filename=archivo)"
   ]
  },
  {
   "cell_type": "markdown",
   "metadata": {},
   "source": [
    "Medios: Varios"
   ]
  },
  {
   "cell_type": "code",
   "execution_count": 190,
   "metadata": {},
   "outputs": [],
   "source": [
    "driver = webdriver.Chrome()"
   ]
  },
  {
   "cell_type": "code",
   "execution_count": 168,
   "metadata": {},
   "outputs": [],
   "source": [
    "driver.get(\"https://www.piensageotermia.com/ecopetrol-avanza-hacia-la-perforacion-para-proyecto-geotermico-caldas-colombia/\")"
   ]
  },
  {
   "cell_type": "code",
   "execution_count": 174,
   "metadata": {},
   "outputs": [
    {
     "name": "stdout",
     "output_type": "stream",
     "text": [
      "Ecopetrol avanza hacia la perforación para proyecto geotérmico en Caldas, Colombia\n",
      "La alianza de Ecopetrol, Baker Hughes y CHEC EPM avanza hacia la perforación para un proyecto de energía geotérmica planificado en Caldas, Colombia.\n",
      "15 Feb 2024\n",
      "La alianza de Ecopetrol, Baker Hughes y CHEC EPM avanza hacia la perforación para un proyecto de energía geotérmica planificado en Caldas, Colombia.\n",
      "\n",
      "La empresa de hidrocarburos y energía estatal colombiana Ecopetrol anuncia que invertirá en la perforación del proyecto de generación de energía geotérmica planificado en Caldas, Colombia. Está previsto perforar dos pozos profundos, cada uno de ellos a una profundidad de 2.500 metros, en uno o dos años.\n",
      "La decisión de proceder a la perforación surge luego de los estudios de superficie realizados por la alianza entre Ecopetrol, Baker Hughes y la Central Hidroeléctrica Caldas (CHEC) del Grupo EPM. La firma del memorando de entendimiento entre las tres partes tuvo lugar en marzo de 2023.\n",
      "La perforación de los dos pozos ayudará a los socios a determinar con mayor precisión el tamaño del recurso geotérmico, así como a caracterizar el yacimiento y sus fluidos. Esto requerirá una inversión de alrededor de COP 98 mil millones, o cerca de USD 25 millones.\n",
      "El plan para la primera fase del proyecto es desarrollar una planta de energía geotérmica de 30 MW. Esto suministrará energía a unas 200.000 familias o más de 923.000 personas. Se trata de una porción de la población que CHEC atiende en Caldas y Risaralda, sin contar Pereira. La central requerirá una inversión de alrededor de COP 656 mil millones (aprox. USD 167 millones).\n",
      "La exploración geotérmica inicial en la región de Caldas fue realizada en 1997 por la empresa Geoenergia Andina (Gesa). La perforación del pozo Nereidas 1 se realizó a una profundidad de 1400 metros, estimando un recurso geotérmico de 200 °C. Sin embargo, el caudal del pozo no fue suficiente y la empresa no contaba con los fondos para continuar con el proyecto.\n",
      "Con el nuevo proyecto, que pretende perforar a mayor profundidad, los socios esperan aprovechar un recurso con la temperatura y la presión necesarias para respaldar la generación de electricidad de carga base a partir de energía geotérmica renovable.\n",
      "Fuente de referencia vía nuestra plataforma global ThinkGeoEnergy / La Patria\n",
      "\n",
      "\n"
     ]
    }
   ],
   "source": [
    "titulo_noticia = driver.find_element(By.XPATH, \"//*[@id='content']/div/div/div[2]/div[1]/div[1]/article/main/h1\").text\n",
    "subtitulo_noticia = driver.find_element(By.XPATH, \"//*[@id='content']/div/div/div[2]/div[1]/div[1]/article/main/div[4]/p\").text\n",
    "fecha_noticia = driver.find_element(By.XPATH,\"//*[@id='content']/div/div/div[2]/div[1]/div[1]/article/main/div[3]/div/center/span\").text\n",
    "content = driver.find_element(By.XPATH, \"//*[@id='content']/div/div/div[2]/div[1]/div[1]/article/main\")\n",
    "parrafos = content.find_elements(By.TAG_NAME, \"p\")\n",
    "a = ''\n",
    "for parrafo in parrafos:\n",
    "    a += parrafo.text + \"\\n\"\n",
    "\n",
    "print(titulo_noticia)\n",
    "print(subtitulo_noticia)\n",
    "print(fecha_noticia)\n",
    "print(a)"
   ]
  },
  {
   "cell_type": "code",
   "execution_count": 175,
   "metadata": {},
   "outputs": [],
   "source": [
    "titles.append(titulo_noticia)\n",
    "subtitles.append(subtitulo_noticia)\n",
    "dates.append(fecha_noticia)\n",
    "contents.append(a)  "
   ]
  },
  {
   "cell_type": "code",
   "execution_count": 176,
   "metadata": {},
   "outputs": [],
   "source": [
    "driver.get(\"https://www.elnuevosiglo.com.co/nacion/que-paso-hoy-en-la-reunion-que-sostuvo-petro-y-galan-los-detalles\")"
   ]
  },
  {
   "cell_type": "code",
   "execution_count": 177,
   "metadata": {},
   "outputs": [
    {
     "name": "stdout",
     "output_type": "stream",
     "text": [
      "Con financiación de Ecopetrol y Cenit rueda el Regiotram Occidente\n",
      "Los ductos son de transporte de combustible para las aeronaves y se encuentran entre Puente Aranda y el Aeropuerto El Dorado.\n",
      "MARTES, 27 DE FEBRERO DE 2024\n",
      "CON RECURSOS de las utilidades de la venta de combustibles fósiles, el Gobierno nacional financiará los cerca de $210.000 millones que se requieren para la profundización del jet-ducto y otros de transporte de combustible para destrabar el proyecto de RegioTram de Occidente.\n",
      "Así quedó definido en la reunión que sostuvo en la Casa de Nariño el presidente Gustavo Petro con el alcalde de Bogotá, Carlos Fernando Galán, el gobernador de Cundinamarca, Jorge Emilio Rey, y el ministro de Transporte, William Camargo.\n",
      "El ministro de Transporte confirmó que “se va a agenciar desde Ecopetrol y Cenit para garantizar que la intervención se pueda cubrir con parte de las utilidades que, en el componente de producción de petróleo, recibe la nación y que buscan más que se genere un subsidio entre los usuarios de transporte público y RegioTram”.\n",
      "Los ductos a los que se refirió el ministro son de transporte de combustible para las aeronaves y se encuentran entre Puente Aranda y el Aeropuerto El Dorado, los cuales se deben profundizar para permitir el proyecto de RegioTram de Occidente en la zona de Fontibón.\n",
      "“Es un incentivo para que el transporte férreo recupere la velocidad que, por esta situación, todavía nos tenía en alguna complicación”, aseguró el ministro al reiterar la importancia que tiene este tipo de transporte para el presidente Petro.\n",
      "Otra conclusión de la reunión fue que en los próximos días la Agencia Nacional de Licencias Ambientales (ANLA) y el Ministerio de Ambiente expedirán un borrador de decreto que agiliza la autorización del proyecto para que tenga el menor impacto en la zona de su recorrido.\n",
      "Esto “nos libera algunas preocupaciones sobre licenciamiento ambiental, que hace parte, justamente, de la conversación que hemos venido construyendo con la Gobernación, con Bogotá y con la región, para garantizar una mayor eficiencia en la habilitación de estas intervenciones de los componentes férreos”, agregó el primer mandatario.\n",
      "Por su parte, el alcalde Carlos Fernando Galán sostuvo que la reunión fue positiva porque busca que un proyecto que es importante para la región y para Bogotá avance.\n",
      "“Este es un proyecto que entre otras cosas no solamente va a conectar la región con Bogotá y con el centro de Bogotá, sino también va a permitir conectar el Aeropuerto El Dorado con el centro de Bogotá. Esto nos permite tener, además la alternativa de que haya Transmilenio para conectar el Aeropuerto con el centro y tener un tren regional que va a conectar desde Fontibón, en el aeropuerto, con el centro. Esto es muy importante y Bogotá va a hacer todo lo necesario para permitir que este proyecto avance, se concrete y lo tengamos en operación”, afirmó.\n",
      "Durante la celebración de la asamblea anual corporativa de la Corporación Autónoma Regional de Cundinamarca (CAR), celebrada este martes en las instalaciones de la Gobernación de Cundinamarca, fueron elegidos los cuatro alcaldes representantes ante el Consejo Directivo de la entidad, quienes tendrán voz y voto para la toma de decisiones relacionadas con todos los aspectos claves en materia ambiental en el territorio.\n",
      "Wilfran Medina, alcalde de Quebradanegra; Javier Garzón, alcalde de Chocontá; Paúl Vera, alcalde de Guayabal de Síquima y Edwin Espitia, alcalde de Buenavista (Boyacá), son los representantes elegidos por los mandatarios de los 104 municipios que conforman la jurisdicción de la CAR.\n",
      "Los cuatro mandatarios sucederán a los alcaldes de los municipios de Funza, Zipaquirá, El Colegio y Ráquira (Boyacá), quienes representaron a los burgomaestres del territorio ante el Consejo Directivo de la CAR durante la vigencia 2023.\n",
      "La elección contó con la presencia de delegados de los organismos de control y los integrantes del Consejo Directivo, entre ellos el gobernador de Cundinamarca, Jorge Emilio Rey, quien preside dicha célula; el alcalde mayor de Bogotá, Carlos Fernando Galán y el delegado del gobernador de Boyacá, Carlos Andrés Amaya, mientras que la ministra de Ambiente, Susana Muhamad, lo hizo de manera remota. También estuvo presente el director de la CAR, Alfred Ballesteros, y la secretaria general de la entidad, Érika Sabogal.\n",
      "\n"
     ]
    }
   ],
   "source": [
    "titulo_noticia = driver.find_element(By.XPATH, \"//*[@id='block-views-block-bloque-header-node-block-1']/div/div/div/div/div/div[3]/span/h1\").text\n",
    "subtitulo_noticia = driver.find_element(By.XPATH, \"//*[@id='block-views-block-bloque-header-node-block-1']/div/div/div/div/div/div[4]/div\").text\n",
    "fecha_noticia = driver.find_element(By.XPATH,\"//*[@id='block-nuevosiglo-content']/div/article/div/span[2]\").text\n",
    "content = driver.find_element(By.XPATH, \"//*[@id='block-nuevosiglo-content']/div/article/div/div[4]\")\n",
    "parrafos = content.find_elements(By.TAG_NAME, \"p\")\n",
    "a = ''\n",
    "for parrafo in parrafos:\n",
    "    a += parrafo.text + \"\\n\"\n",
    "\n",
    "print(titulo_noticia)\n",
    "print(subtitulo_noticia)\n",
    "print(fecha_noticia)\n",
    "print(a)"
   ]
  },
  {
   "cell_type": "code",
   "execution_count": 178,
   "metadata": {},
   "outputs": [],
   "source": [
    "titles.append(titulo_noticia)\n",
    "subtitles.append(subtitulo_noticia)\n",
    "dates.append(fecha_noticia)\n",
    "contents.append(a)  "
   ]
  },
  {
   "cell_type": "code",
   "execution_count": 183,
   "metadata": {},
   "outputs": [],
   "source": [
    "driver.get(\"https://elperiodicodelaenergia.com/el-sindicato-colombiano-uso-apoya-a-petro-y-anima-a-transformar-ecopetrol-en-una-empresa-de-energia-limpia/\")"
   ]
  },
  {
   "cell_type": "code",
   "execution_count": 184,
   "metadata": {},
   "outputs": [
    {
     "name": "stdout",
     "output_type": "stream",
     "text": [
      "El sindicato colombiano USO apoya a Petro y anima a transformar Ecopetrol en una empresa de energía limpia\n",
      "\"El mundo del petróleo es moribundo, y su gran triunfo empieza a tambalear\", según el sindicato colombiano\n",
      "16/02/2024\n",
      "La Unión Sindical Obrera (USO), la tercera organización sindical más importante de Colombia, ha señalado que comparte la visión general del Gobierno de Colombia a la hora de transformar la petrolera Ecopetrol en una empresa nacional de energías limpias.\n",
      "En un comunicado, el sindicato ha expresado que defiende los proyectos del Gobierno que “con orgullo” han ayudado a elegir y ha apuntado con claridad que Ecopetrol “debe” jugar un papel como eje de la transición energética en Colombia que resultará justa para la vida.\n",
      "\n",
      "\n",
      "El sindicato ha mostrado su plena disposición tras un discurso pronunciado el pasado martes por el presidente de Colombia, Gustavo Petro, en el que el mandatario animó a transformar Ecopetrol en una industria más limpia, haciendo una transición hacia el uso de fuentes de energía más renovables como el hidrógeno verde, y que cuente con una gerencia obrera en lugar de una jerárquica como la actual.\n",
      "“El mundo del petróleo es moribundo, y su gran triunfo empieza a tambalear, pero se puede llenar de seguridad si la gerencia actual de Ecopetrol democratizara a la empresa, no esas jerarquías, ingenieros de altos salarios, altísimos”, denunció Petro.\n",
      "Para la USO, estas palabras fueron emocionantes y han insuflado ánimo a poner su experiencia, sus afiliados y su conocimiento a disposición de Ecopetrol para que se convierta en una empresa que ayude con responsabilidad en defensa de la soberanía energética y desde los principios de sostenibilidad y rigor.\n",
      "\n",
      "\n",
      "Igualmente, el sindicato ha sostenido que la transformación de Ecopetrol requiere cambios profundos en el modelo gerencial para que sea menos vertical e incluya a los trabajadores en la gestión de la petrolera “de todos los colombianos y colombianas”.\n",
      "“La USO ha sido clara siempre en decir que comparte esa visión de cambio propuesta por el Gobierno del Cambio y la concertación de una ruta para la transición energética juta que proteja el empleo en el sector y mantenga de manera paralela la exploración, producción comercialización de petróleo y gas”, ha concluido el sindicato.\n",
      "\n",
      "\n",
      "\n"
     ]
    }
   ],
   "source": [
    "titulo_noticia = driver.find_element(By.XPATH, \"//*[@id='post-317224']/header/h1\").text\n",
    "subtitulo_noticia = driver.find_element(By.XPATH, \"//*[@id='post-317224']/header/h2\").text\n",
    "fecha_noticia = driver.find_element(By.XPATH,\"//*[@id='post-317224']/header/ul/li[1]/a\").text\n",
    "content = driver.find_element(By.XPATH, \"//*[@id='post-317224']/div[2]/div/section[1]\")\n",
    "parrafos = content.find_elements(By.TAG_NAME, \"p\")\n",
    "a = ''\n",
    "for parrafo in parrafos:\n",
    "    a += parrafo.text + \"\\n\"\n",
    "\n",
    "print(titulo_noticia)\n",
    "print(subtitulo_noticia)\n",
    "print(fecha_noticia)\n",
    "print(a)"
   ]
  },
  {
   "cell_type": "code",
   "execution_count": 185,
   "metadata": {},
   "outputs": [],
   "source": [
    "titles.append(titulo_noticia)\n",
    "subtitles.append(subtitulo_noticia)\n",
    "dates.append(fecha_noticia)\n",
    "contents.append(a)  "
   ]
  },
  {
   "cell_type": "code",
   "execution_count": 186,
   "metadata": {},
   "outputs": [],
   "source": [
    "driver.get(\"https://www.pares.com.co/post/ecopetrol-reporta-cifra-histórica-de-ahorro-energético-durante-2023\")"
   ]
  },
  {
   "cell_type": "code",
   "execution_count": 187,
   "metadata": {},
   "outputs": [
    {
     "name": "stdout",
     "output_type": "stream",
     "text": [
      "Ecopetrol reporta cifra histórica de ahorro energético durante 2023\n",
      "None\n",
      "9 feb\n",
      "Por: Álvaro Martínez\n",
      "\n",
      "Foto tomada de: La Republica\n",
      "\n",
      "En el marco de la coyuntura del Día sin Carro en Bogotá, los altos niveles de temperatura registrados y los incendios forestales de las últimas semanas producidos por causa de El Fenómeno de El Niño, Ecopetrol reportó resultados favorables para hacer frente al cambio climático y a diferentes problemáticas ambientales.\n",
      "\n",
      "A través de un comunicado, Ecopetrol anunció al país los resultados de cierre para el año 2023, entre los cuales se destaca:\n",
      "\n",
      "Un ahorro energético de 3,89 petajulios durante 2023 (el mejor resultado obtenido desde el año 2018)\n",
      "Una reducción de 274 mil toneladas de CO2 en el año 2023\n",
      "Un ahorro energético acumulado de 10,86 petajulios entre 2018 y 2023\n",
      "Una reducción en emisión de gases acumulada (2018-2023) de 708 mil toneladas\n",
      "Un compromiso con la optimización de consumos de energía eléctrica, gas natural y energía térmica\n",
      "\n",
      "Es de resaltar que, con los resultados obtenidos, 2023 puede considerarse como el año con mayor ahorro de energía en la historia reciente, lo cual (de acuerdo con la empresa) es atribuible a la ejecución rigurosa del programa de eficiencia energética por parte del Grupo Ecopetrol.\n",
      "\n",
      "Como marco de referencia, se indica que el ahorro energético acumulado es equivalente al 4% de la demanda anual de energía del país en el último quinquenio y que la reducción de emisiones registrada es similar al efecto de captura de carbono que producirían 4,5 millones de árboles o 197 días sin carro en Bogotá.\n",
      "\n",
      "El reporte de resultados estaría directamente relacionado con acciones de impacto para el cumplimiento de objetivos de descarbonización, la reducción en emisiones de gases de efecto invernadero (GEI) y la mitigación del calentamiento global.\n",
      "\n",
      "Ecopetrol, la empresa más importante del país en materia económica, evidenciar así un giro hacia el cumplimiento de objetivos no sólo económicos, sino también medioambientales. El reporte de resultados reafirma el compromiso de la empresa con la eficiencia energética y la transición hacia fuentes de energía renovables y no convencionales.\n",
      "\n",
      "En palabras del presidente de Ecopetrol, \"La eficiencia energética y las energías renovables son las mayores impulsoras de la reducción de emisiones en el mundo, y Ecopetrol está comprometida con seguir avanzando en estas iniciativas con metas retadoras a 2030\".\n",
      "\n"
     ]
    }
   ],
   "source": [
    "titulo_noticia = driver.find_element(By.XPATH, \"//*[@id='content-wrapper']/div/div/div/div[1]/div[1]/article/div[1]/div/div/div[2]/h1/span/span\").text\n",
    "subtitulo_noticia = None\n",
    "fecha_noticia = driver.find_element(By.XPATH,\"//*[@id='content-wrapper']/div/div/div/div[1]/div[1]/article/div[1]/div/div/div[1]/ul/li[3]/ul/li/span\").text\n",
    "content = driver.find_element(By.XPATH, \"//*[@id='content-wrapper']/div/div/div/div[1]/div[1]/article/div[2]/article/div/div/div/div/div/div/div[2]\")\n",
    "parrafos = content.find_elements(By.CLASS_NAME, \"GkipB\")\n",
    "a = ''\n",
    "for parrafo in parrafos:\n",
    "    a += parrafo.text + \"\\n\"\n",
    "\n",
    "print(titulo_noticia)\n",
    "print(subtitulo_noticia)\n",
    "print(fecha_noticia)\n",
    "print(a)"
   ]
  },
  {
   "cell_type": "code",
   "execution_count": 188,
   "metadata": {},
   "outputs": [],
   "source": [
    "titles.append(titulo_noticia)\n",
    "subtitles.append(subtitulo_noticia)\n",
    "dates.append(fecha_noticia)\n",
    "contents.append(a)  "
   ]
  },
  {
   "cell_type": "code",
   "execution_count": 191,
   "metadata": {},
   "outputs": [],
   "source": [
    "driver.get(\"https://caracol.com.co/2024/02/02/ecopetrol-participa-en-la-conservacion-y-cuidado-de-humedales-en-colombia/\")"
   ]
  },
  {
   "cell_type": "code",
   "execution_count": 192,
   "metadata": {},
   "outputs": [
    {
     "name": "stdout",
     "output_type": "stream",
     "text": [
      "Ecopetrol participa en la conservación y cuidado de humedales en Colombia\n",
      "Son cerca de 200 mil hectáreas de humedales que han permitido registrar más de 500 especies.\n",
      "02/02/2024 - 17:01 h COT\n",
      "Este viernes 2 de febrero, cuando se conmemora el Día Internacional de los Humedales, Ecopetrol y sus socios en los territorios, anuncian los proyectos de conservación de humedales que ha permitido avanzar en los procesos de restauración en cerca de 97 hectáreas y sembrar más de 250 mil árboles.\n",
      "Y gran parte de estas acciones se han enfocado en la ciénaga de Zapatosa, que es el humedal continental más grande de agua dulce de Colombia, ubicado entre los municipios del Cesar como: Chimichagua, Curumaní, Tamalameque, Chiriguaná y El Banco (Magdalena).\n",
      "El proyecto incluye el monitoreo de carbono y biodiversidad, mediante la documentación directa en el sitio, la instalación de equipos tecnológicos, que permiten la medición de gases de efecto invernadero y el muestreo de la biodiversidad.\n",
      "Los equipos han permitido registrar hasta el momento 236 especies de aves, 54 de reptiles y anfibios, 43 de mamíferos y 39 de peces, algunas de ellas extinguidas, que solo se encuentran en la zona. Al respecto, Santiago Martínez, gerente de Sostenibilidad y Descarbonización de Ecopetrol, indicó que estos proyectos favorecen la conectividad ecológica.\n",
      "“Estos proyectos consolidan los procesos de conservación de humedales, lo cual favorece la conectividad ecológica, fortalece el tejido social y hace posible formular e implementar acciones para la mitigación de las emisiones de Gases de Efecto Invernadero generados por la degradación de estos ecosistemas”, afirmó Martínez.\n",
      "Y sumado a estas acciones, el proyecto cuenta con un proceso de Monitoreo Comunitario Pesquero, en el que participan actualmente 27 personas para contribuir en la conservación de los ecosistemas de las zonas priorizadas.\n",
      "\n"
     ]
    }
   ],
   "source": [
    "titulo_noticia = driver.find_element(By.XPATH, \"//*[@id='fusion-app']/main/article/header/h1\").text\n",
    "subtitulo_noticia = driver.find_element(By.XPATH, \"//*[@id='fusion-app']/main/article/header/h3\").text\n",
    "fecha_noticia = driver.find_element(By.XPATH,\"//*[@id='fusion-app']/main/article/div/div[1]/div[2]/time/span\").text\n",
    "content = driver.find_element(By.XPATH, \"//*[@id='fusion-app']/main/article[1]/div/div[1]/div[3]\")\n",
    "parrafos = content.find_elements(By.TAG_NAME, \"p\")\n",
    "a = ''\n",
    "for parrafo in parrafos:\n",
    "    a += parrafo.text + \"\\n\"\n",
    "\n",
    "print(titulo_noticia)\n",
    "print(subtitulo_noticia)\n",
    "print(fecha_noticia)\n",
    "print(a)"
   ]
  },
  {
   "cell_type": "code",
   "execution_count": 193,
   "metadata": {},
   "outputs": [],
   "source": [
    "titles.append(titulo_noticia)\n",
    "subtitles.append(subtitulo_noticia)\n",
    "dates.append(fecha_noticia)\n",
    "contents.append(a)  "
   ]
  },
  {
   "cell_type": "code",
   "execution_count": 194,
   "metadata": {},
   "outputs": [],
   "source": [
    "import pandas as pd\n",
    "df3 = pd.DataFrame({\n",
    "    \"Title\": titles,\n",
    "    \"Subtitle\": subtitles,\n",
    "    \"Date\": dates,\n",
    "    \"Content\": contents\n",
    "})"
   ]
  },
  {
   "cell_type": "code",
   "execution_count": 196,
   "metadata": {},
   "outputs": [
    {
     "data": {
      "text/html": [
       "<div>\n",
       "<style scoped>\n",
       "    .dataframe tbody tr th:only-of-type {\n",
       "        vertical-align: middle;\n",
       "    }\n",
       "\n",
       "    .dataframe tbody tr th {\n",
       "        vertical-align: top;\n",
       "    }\n",
       "\n",
       "    .dataframe thead th {\n",
       "        text-align: right;\n",
       "    }\n",
       "</style>\n",
       "<table border=\"1\" class=\"dataframe\">\n",
       "  <thead>\n",
       "    <tr style=\"text-align: right;\">\n",
       "      <th></th>\n",
       "      <th>Title</th>\n",
       "      <th>Subtitle</th>\n",
       "      <th>Date</th>\n",
       "      <th>Content</th>\n",
       "    </tr>\n",
       "  </thead>\n",
       "  <tbody>\n",
       "    <tr>\n",
       "      <th>0</th>\n",
       "      <td>Ecopetrol avanza hacia la perforación para pro...</td>\n",
       "      <td>La alianza de Ecopetrol, Baker Hughes y CHEC E...</td>\n",
       "      <td>15 Feb 2024</td>\n",
       "      <td>La alianza de Ecopetrol, Baker Hughes y CHEC E...</td>\n",
       "    </tr>\n",
       "    <tr>\n",
       "      <th>1</th>\n",
       "      <td>Con financiación de Ecopetrol y Cenit rueda el...</td>\n",
       "      <td>Los ductos son de transporte de combustible pa...</td>\n",
       "      <td>MARTES, 27 DE FEBRERO DE 2024</td>\n",
       "      <td>CON RECURSOS de las utilidades de la venta de ...</td>\n",
       "    </tr>\n",
       "    <tr>\n",
       "      <th>2</th>\n",
       "      <td>El sindicato colombiano USO apoya a Petro y an...</td>\n",
       "      <td>\"El mundo del petróleo es moribundo, y su gran...</td>\n",
       "      <td>16/02/2024</td>\n",
       "      <td>La Unión Sindical Obrera (USO), la tercera org...</td>\n",
       "    </tr>\n",
       "    <tr>\n",
       "      <th>3</th>\n",
       "      <td>Ecopetrol reporta cifra histórica de ahorro en...</td>\n",
       "      <td>None</td>\n",
       "      <td>9 feb</td>\n",
       "      <td>Por: Álvaro Martínez\\n\\nFoto tomada de: La Rep...</td>\n",
       "    </tr>\n",
       "    <tr>\n",
       "      <th>4</th>\n",
       "      <td>Ecopetrol participa en la conservación y cuida...</td>\n",
       "      <td>Son cerca de 200 mil hectáreas de humedales qu...</td>\n",
       "      <td>02/02/2024 - 17:01 h COT</td>\n",
       "      <td>Este viernes 2 de febrero, cuando se conmemora...</td>\n",
       "    </tr>\n",
       "  </tbody>\n",
       "</table>\n",
       "</div>"
      ],
      "text/plain": [
       "                                               Title  \\\n",
       "0  Ecopetrol avanza hacia la perforación para pro...   \n",
       "1  Con financiación de Ecopetrol y Cenit rueda el...   \n",
       "2  El sindicato colombiano USO apoya a Petro y an...   \n",
       "3  Ecopetrol reporta cifra histórica de ahorro en...   \n",
       "4  Ecopetrol participa en la conservación y cuida...   \n",
       "\n",
       "                                            Subtitle  \\\n",
       "0  La alianza de Ecopetrol, Baker Hughes y CHEC E...   \n",
       "1  Los ductos son de transporte de combustible pa...   \n",
       "2  \"El mundo del petróleo es moribundo, y su gran...   \n",
       "3                                               None   \n",
       "4  Son cerca de 200 mil hectáreas de humedales qu...   \n",
       "\n",
       "                            Date  \\\n",
       "0                    15 Feb 2024   \n",
       "1  MARTES, 27 DE FEBRERO DE 2024   \n",
       "2                     16/02/2024   \n",
       "3                          9 feb   \n",
       "4       02/02/2024 - 17:01 h COT   \n",
       "\n",
       "                                             Content  \n",
       "0  La alianza de Ecopetrol, Baker Hughes y CHEC E...  \n",
       "1  CON RECURSOS de las utilidades de la venta de ...  \n",
       "2  La Unión Sindical Obrera (USO), la tercera org...  \n",
       "3  Por: Álvaro Martínez\\n\\nFoto tomada de: La Rep...  \n",
       "4  Este viernes 2 de febrero, cuando se conmemora...  "
      ]
     },
     "execution_count": 196,
     "metadata": {},
     "output_type": "execute_result"
    }
   ],
   "source": [
    "df3.head()"
   ]
  },
  {
   "cell_type": "code",
   "execution_count": 197,
   "metadata": {},
   "outputs": [],
   "source": [
    "import openpyxl\n",
    "archivo = '/Users/mauro07060000/Downloads/Noticias-Eco.xlsx'  # Cambia esto por la ruta real de tu archivo\n",
    "libro = openpyxl.load_workbook(archivo)\n",
    "hoja = libro.active  # O usa libro['nombre_hoja'] si conoces el nombre de la hoja\n",
    "# Encuentra la última fila con datos\n",
    "ultima_fila = hoja.max_row + 1\n",
    "\n",
    "# Añade los datos del DataFrame\n",
    "for indice, fila in df3.iterrows():\n",
    "    for columna, valor in enumerate(fila, start=1):\n",
    "        hoja.cell(row=ultima_fila + indice, column=columna, value=valor)\n",
    "\n",
    "# Guarda el archivo\n",
    "libro.save(filename=archivo)"
   ]
  }
 ],
 "metadata": {
  "kernelspec": {
   "display_name": "base",
   "language": "python",
   "name": "python3"
  },
  "language_info": {
   "codemirror_mode": {
    "name": "ipython",
    "version": 3
   },
   "file_extension": ".py",
   "mimetype": "text/x-python",
   "name": "python",
   "nbconvert_exporter": "python",
   "pygments_lexer": "ipython3",
   "version": "3.11.7"
  },
  "orig_nbformat": 4
 },
 "nbformat": 4,
 "nbformat_minor": 2
}
